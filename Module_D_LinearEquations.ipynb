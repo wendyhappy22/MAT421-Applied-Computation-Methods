{
  "nbformat": 4,
  "nbformat_minor": 0,
  "metadata": {
    "colab": {
      "name": "Module_D_LinearEquations.ipynb",
      "provenance": [],
      "collapsed_sections": []
    },
    "kernelspec": {
      "name": "python3",
      "display_name": "Python 3"
    },
    "language_info": {
      "name": "python"
    }
  },
  "cells": [
    {
      "cell_type": "markdown",
      "source": [
        "# Module D: Linear Equations"
      ],
      "metadata": {
        "id": "caC8tKgfKl1f"
      }
    },
    {
      "cell_type": "markdown",
      "source": [
        "##### numpy shape() function returns the row and column number (n_row, n_col) of a matrix."
      ],
      "metadata": {
        "id": "ame5EOvwLKdR"
      }
    },
    {
      "cell_type": "code",
      "source": [
        "# Create a row vector and column vector, and show the shape of the vectors.\n",
        "import numpy as np\n",
        "vector_row = np.array([[1, -5, 3, 2, 4]])\n",
        "vector_column = np.array([[1], \n",
        "                          [2], \n",
        "                          [3], \n",
        "                          [4]])\n",
        "print(vector_row.shape)\n",
        "print(vector_column.shape)"
      ],
      "metadata": {
        "colab": {
          "base_uri": "https://localhost:8080/"
        },
        "id": "R7mbo2L_Koq9",
        "outputId": "d10b5fbf-7740-4cdd-c50a-f3a31294d205"
      },
      "execution_count": 1,
      "outputs": [
        {
          "output_type": "stream",
          "name": "stdout",
          "text": [
            "(1, 5)\n",
            "(4, 1)\n"
          ]
        }
      ]
    },
    {
      "cell_type": "markdown",
      "source": [
        "##### If the context of a vector is ambiguous, it usually means the vector is a column vector. The 𝑖-th element of a vector, 𝑣, is denoted by 𝑣𝑖. A vector in ℝ𝑛 is an n row , 1 column matrix that contains n elements.\n",
        "##### Transpose the row vector defined above into a column vector"
      ],
      "metadata": {
        "id": "jQKtdktD9Avv"
      }
    },
    {
      "cell_type": "code",
      "source": [
        "# Transpose the row vector defined above into a column vector, and the column vector to a row vector\n",
        "\n",
        "transposed_vector_row = vector_row.T\n",
        "transposed_vector_column = vector_column.T\n",
        "print(\"transposed_vector_row: \\n\", transposed_vector_row)\n",
        "print('transposed_vector_column: ', transposed_vector_column)\n",
        "\n"
      ],
      "metadata": {
        "colab": {
          "base_uri": "https://localhost:8080/"
        },
        "id": "YKA6v9GY8_Qr",
        "outputId": "857b09a7-8463-4fda-c472-aa65e47dacaa"
      },
      "execution_count": 2,
      "outputs": [
        {
          "output_type": "stream",
          "name": "stdout",
          "text": [
            "transposed_vector_row: \n",
            " [[ 1]\n",
            " [-5]\n",
            " [ 3]\n",
            " [ 2]\n",
            " [ 4]]\n",
            "transposed_vector_column:  [[1 2 3 4]]\n"
          ]
        }
      ]
    },
    {
      "cell_type": "markdown",
      "source": [
        "#####  calculate the 𝐿1, 𝐿2, and 𝐿∞ norm of the transposed_vector_row above. Verify that the 𝐿∞ norm of a vector is equivalent to the maximum value of the elements in the vector."
      ],
      "metadata": {
        "id": "90ImVhq0-nBq"
      }
    },
    {
      "cell_type": "code",
      "source": [
        "# calculate the norm of a column vector\n",
        "from numpy.linalg import norm\n",
        "norm_1 = norm(transposed_vector_row, 1)\n",
        "norm_2 = norm(transposed_vector_row, 2)\n",
        "norm_inf = norm(transposed_vector_row, np.inf)\n",
        "print('the vector is:\\n', transposed_vector_row)\n",
        "print('L_1 is: %.1f'%norm_1)\n",
        "print('L_2 is: %.1f'%norm_2)\n",
        "print('L_inf is: %.1f'%norm_inf)"
      ],
      "metadata": {
        "colab": {
          "base_uri": "https://localhost:8080/"
        },
        "id": "EhW73KnQ9SiP",
        "outputId": "c8df22f8-0d61-4c84-bcb7-8ed42161c75e"
      },
      "execution_count": 3,
      "outputs": [
        {
          "output_type": "stream",
          "name": "stdout",
          "text": [
            "the vector is:\n",
            " [[ 1]\n",
            " [-5]\n",
            " [ 3]\n",
            " [ 2]\n",
            " [ 4]]\n",
            "L_1 is: 15.0\n",
            "L_2 is: 7.4\n",
            "L_inf is: 5.0\n"
          ]
        }
      ]
    },
    {
      "cell_type": "markdown",
      "source": [
        "##### The **dot product** of two vectors is the sum of the product of the respective elements in each vector and is denoted by ⋅, and 𝑣⋅𝑤 is read “v dot w.” Therefore for 𝑣 and 𝑤 ∈ℝ𝑛,𝑑=𝑣⋅𝑤 is defined as 𝑑=∑𝑣𝑖𝑤𝑖. The angle between two vectors, 𝜃, is defined by the formula: 𝑣⋅𝑤=‖𝑣‖2‖𝑤‖2cos𝜃\n",
        "\n"
      ],
      "metadata": {
        "id": "nSIl-AMmD5IS"
      }
    },
    {
      "cell_type": "code",
      "source": [
        "# Compute the angle between the vectors 𝑣=[10,9,3] and 𝑤=[2,5,12].\n",
        "from numpy import arccos, dot\n",
        "\n",
        "v = np.array([[10, 9, 3]])\n",
        "w = np.array([[2, 5, 12]])\n",
        "theta = \\\n",
        "    arccos(dot(v, w.T)/(norm(v)*norm(w))) # remember to transpose w to w.T for vector poduction (1xn matrix mutiplies a nx1 matrix)\n",
        "print(theta)"
      ],
      "metadata": {
        "colab": {
          "base_uri": "https://localhost:8080/"
        },
        "id": "5UpiSalpEyZo",
        "outputId": "774811a4-0a43-419d-a6c9-1eff8d9c569b"
      },
      "execution_count": 4,
      "outputs": [
        {
          "output_type": "stream",
          "name": "stdout",
          "text": [
            "[[0.97992471]]\n"
          ]
        }
      ]
    },
    {
      "cell_type": "code",
      "source": [
        "# v and w are parallel, theta =0\n",
        "v = np.array([[1, 1]]) \n",
        "w = np.array([[2, 2]])\n",
        "theta = \\\n",
        "    arccos(dot(v, w.T)/(norm(v)*norm(w)))\n",
        "print(theta)"
      ],
      "metadata": {
        "colab": {
          "base_uri": "https://localhost:8080/"
        },
        "id": "klfqVlNuGDGQ",
        "outputId": "755b2dcd-f7ca-42f2-b537-ea14c116675c"
      },
      "execution_count": 7,
      "outputs": [
        {
          "output_type": "stream",
          "name": "stdout",
          "text": [
            "[[2.10734243e-08]]\n"
          ]
        }
      ]
    },
    {
      "cell_type": "code",
      "source": [
        "# v and w are orthogonal, theta =pie/2, dot(v, w.T)=0\n",
        "v = np.array([[1, 0]]) \n",
        "w = np.array([[0, 1]])\n",
        "\n",
        "print('the dot product (v, w) is :', dot(v, w.T))\n",
        "theta = \\\n",
        "    arccos(dot(v, w.T)/(norm(v)*norm(w)))\n",
        "print(theta)"
      ],
      "metadata": {
        "colab": {
          "base_uri": "https://localhost:8080/"
        },
        "id": "9hVQUTFzG93c",
        "outputId": "a7122b79-3dca-4128-8b38-d9ef7466674a"
      },
      "execution_count": 6,
      "outputs": [
        {
          "output_type": "stream",
          "name": "stdout",
          "text": [
            "the dot product (v, w) is : [[0]]\n",
            "[[1.57079633]]\n"
          ]
        }
      ]
    },
    {
      "cell_type": "markdown",
      "source": [
        "###### the cross product between two vectors, 𝑣 and 𝑤, is written 𝑣×𝑤. It is defined by 𝑣×𝑤=‖𝑣‖2‖𝑤‖2sin(𝜃)n, where 𝜃 is the angle between the 𝑣 and 𝑤 (which can be computed from the dot product) and 𝑛 is a vector perpendicular to both 𝑣 and 𝑤 with unit length (i.e., the length is one). The geometric interpretation of the cross product is a vector perpendicular to both 𝑣 and 𝑤 with length equal to the area enclosed by the parallelogram created by the two vectors.\n"
      ],
      "metadata": {
        "id": "9MQgXs4YPGPW"
      }
    },
    {
      "cell_type": "code",
      "source": [
        "# np.cross give the cross product of two vector;\n",
        "v = np.array([[0, 2, 0]])\n",
        "w = np.array([[3, 0, 0]])\n",
        "print(np.cross(v, w))"
      ],
      "metadata": {
        "colab": {
          "base_uri": "https://localhost:8080/"
        },
        "id": "qpUmKhZpKon1",
        "outputId": "2eecc702-09c9-4bcd-b1f6-935bd8cc43c2"
      },
      "execution_count": 8,
      "outputs": [
        {
          "output_type": "stream",
          "name": "stdout",
          "text": [
            "[[ 0  0 -6]]\n"
          ]
        }
      ]
    },
    {
      "cell_type": "markdown",
      "source": [
        "##### The product of two matrices 𝑃 (m x p) and 𝑄 (p x m) in Python is achieved by using the dot method in Numpy (np.dot).\n",
        "#####  the dot product of two vectors (v, w) in Rn calculated by np.dot(v, w.T) is actually the product of a (1 x n) matrix and a (n x 1) matrix."
      ],
      "metadata": {
        "id": "8QsYhoMJKC2E"
      }
    },
    {
      "cell_type": "code",
      "source": [
        "P = np.array([[1, 7], [2, 3], [5, 0]])\n",
        "Q = np.array([[2, 6, 3, 1], [1, 2, 3, 4]])\n",
        "print('the matrix P is a', P.shape, ' matrix')\n",
        "print(P)\n",
        "print('the matrix Q is a', Q.shape, \" matrix\")\n",
        "print(Q)\n",
        "print(\"P X Q = \\n\", np.dot(P, Q))"
      ],
      "metadata": {
        "colab": {
          "base_uri": "https://localhost:8080/"
        },
        "id": "KOPxq2QnKok4",
        "outputId": "60ea3143-ef76-4f53-a3d5-3bd0def7aa13"
      },
      "execution_count": 9,
      "outputs": [
        {
          "output_type": "stream",
          "name": "stdout",
          "text": [
            "the matrix P is a (3, 2)  matrix\n",
            "[[1 7]\n",
            " [2 3]\n",
            " [5 0]]\n",
            "the matrix Q is a (2, 4)  matrix\n",
            "[[2 6 3 1]\n",
            " [1 2 3 4]]\n",
            "P X Q = \n",
            " [[ 9 20 24 29]\n",
            " [ 7 18 15 14]\n",
            " [10 30 15  5]]\n"
          ]
        }
      ]
    },
    {
      "cell_type": "markdown",
      "source": [
        "##### det()- calculate the determinant of a square matrix; inv()- gives the inverse of a square matrix. Both are from numpy's linalg packge."
      ],
      "metadata": {
        "id": "hx8HiWLYT5Fh"
      }
    },
    {
      "cell_type": "code",
      "source": [
        "# Use Python to find the determinant of the matrix 𝑀=[[0,2,1,3],[3,2,8,1],[1,0,0,3],[0,3,2,1]].\n",
        "# Use the np.eye function to produce a 4×4 identity matrix, 𝐼. Multiply 𝑀 by 𝐼 to show that the result is 𝑀.\n",
        "# Compute the inverse of 𝑀. \n",
        "import numpy as np\n",
        "from numpy.linalg import det, inv\n",
        "\n",
        "M = np.array([[0,2,1,3], \n",
        "             [3,2,8,1], \n",
        "             [1,0,0,3],\n",
        "             [0,3,2,1]])\n",
        "print('M:\\n', M)\n",
        "\n",
        "print('Determinant: %.1f'%det(M))\n",
        "I = np.eye(4)\n",
        "print('I:\\n', I)\n",
        "print('M*I:\\n', np.dot(M, I))\n",
        "\n",
        "print('Inv M;\\n', inv(M))"
      ],
      "metadata": {
        "colab": {
          "base_uri": "https://localhost:8080/"
        },
        "id": "x5K6oQa2P43R",
        "outputId": "d4bacf4d-8610-4013-de58-c7e11f37e3a8"
      },
      "execution_count": 10,
      "outputs": [
        {
          "output_type": "stream",
          "name": "stdout",
          "text": [
            "M:\n",
            " [[0 2 1 3]\n",
            " [3 2 8 1]\n",
            " [1 0 0 3]\n",
            " [0 3 2 1]]\n",
            "Determinant: -38.0\n",
            "I:\n",
            " [[1. 0. 0. 0.]\n",
            " [0. 1. 0. 0.]\n",
            " [0. 0. 1. 0.]\n",
            " [0. 0. 0. 1.]]\n",
            "M*I:\n",
            " [[0. 2. 1. 3.]\n",
            " [3. 2. 8. 1.]\n",
            " [1. 0. 0. 3.]\n",
            " [0. 3. 2. 1.]]\n",
            "Inv M;\n",
            " [[-1.57894737 -0.07894737  1.23684211  1.10526316]\n",
            " [-0.63157895 -0.13157895  0.39473684  0.84210526]\n",
            " [ 0.68421053  0.18421053 -0.55263158 -0.57894737]\n",
            " [ 0.52631579  0.02631579 -0.07894737 -0.36842105]]\n"
          ]
        }
      ]
    },
    {
      "cell_type": "code",
      "source": [
        "#Show that the matrix 𝑃=[[0,1,0],[0,0,0],[1,0,1]] has a determinant value of 0 and therefore has no inverse.\n",
        "P = np.array([[0,1,0],\n",
        "              [0,0,0],\n",
        "              [1,0,1]])\n",
        "print('det(p):\\n', det(P))"
      ],
      "metadata": {
        "colab": {
          "base_uri": "https://localhost:8080/"
        },
        "id": "gqIqxFA5AVpV",
        "outputId": "72c71e32-3136-42bd-b4b0-ae37aedbc8f0"
      },
      "execution_count": 11,
      "outputs": [
        {
          "output_type": "stream",
          "name": "stdout",
          "text": [
            "det(p):\n",
            " 0.0\n"
          ]
        }
      ]
    },
    {
      "cell_type": "markdown",
      "source": [
        "##### The **rank** of an 𝑚×𝑛 matrix 𝐴 is the number of linearly independent columns or rows of 𝐴, and is denoted by rank(𝐴). \n",
        "##### An augmented matrix. is a matrix, 𝐴, concatenated with a vector, 𝑦, and is written [𝐴,𝑦]. This is commonly read “𝐴 augmented with 𝑦.” \n",
        "##### If 𝑟𝑎𝑛𝑘([𝐴,𝑦])=𝑟𝑎𝑛𝑘(𝐴)+1, then the vector, 𝑦, is “new” information. That is, it cannot be created as a linear combination of the columns in 𝐴. "
      ],
      "metadata": {
        "id": "V9ZzfmIyCk3o"
      }
    },
    {
      "cell_type": "code",
      "source": [
        "# get the rank of matrix A\n",
        "# concatenate vector y with matrix A to generate a augumented matrix \n",
        "\n",
        "from numpy.linalg import matrix_rank\n",
        "\n",
        "A = np.array([[1,1,0],\n",
        "              [0,1,0],\n",
        "              [1,0,1]])\n",
        "\n",
        "print('Rank(A):', matrix_rank(A))\n",
        "\n",
        "y = np.array([[1], [2], [1]])\n",
        "\n",
        "# generate augmented matrix A_y:\n",
        "\n",
        "A_y = np.concatenate((A, y), axis = 1)\n",
        "print('Augmented matrix:\\n', A_y)\n",
        "\n",
        "print('Rank(A_y): ', matrix_rank(A_y))"
      ],
      "metadata": {
        "colab": {
          "base_uri": "https://localhost:8080/"
        },
        "id": "P8tr6SgeP40a",
        "outputId": "39182d0e-cd5c-4cd5-aaa2-c7f719174c99"
      },
      "execution_count": 12,
      "outputs": [
        {
          "output_type": "stream",
          "name": "stdout",
          "text": [
            "Rank(A): 3\n",
            "Augmented matrix:\n",
            " [[1 1 0 1]\n",
            " [0 1 0 2]\n",
            " [1 0 1 1]]\n",
            "Rank(A_y):  3\n"
          ]
        }
      ]
    },
    {
      "cell_type": "code",
      "source": [
        "det(A)"
      ],
      "metadata": {
        "colab": {
          "base_uri": "https://localhost:8080/"
        },
        "id": "4RBANhE9P4xU",
        "outputId": "fc13e9f7-7bd8-4da2-b2dc-86a0a61205bb"
      },
      "execution_count": 13,
      "outputs": [
        {
          "output_type": "execute_result",
          "data": {
            "text/plain": [
              "1.0"
            ]
          },
          "metadata": {},
          "execution_count": 13
        }
      ]
    },
    {
      "cell_type": "markdown",
      "source": [
        "##### A system of linear equations in matrix form, 𝐴𝑥=𝑦, where 𝐴 is an 𝑚×𝑛 matrix. \n",
        "##### If 𝑟𝑎𝑛𝑘([𝐴,𝑦])=𝑟𝑎𝑛𝑘(𝐴)+1, then 𝑦 is linearly independent from the columns of 𝐴. There are no solutions to a system of linear equations.\n",
        "##### If 𝑟𝑎𝑛𝑘([𝐴,𝑦])=𝑟𝑎𝑛𝑘(𝐴), then 𝑦 can be written as a linear combination of the columns of 𝐴 and there is at least one solution for the matrix equation.\n"
      ],
      "metadata": {
        "id": "wMNRpYLsPCi2"
      }
    },
    {
      "cell_type": "markdown",
      "source": [
        "##### Use numpy.linalg.solve to solve the following equations.\n",
        "\n",
        "##### 4𝑥1+3𝑥2−5𝑥3 = 2\n",
        "##### −2𝑥1−4𝑥2+5𝑥3 = 5\n",
        "##### 8𝑥1+8𝑥2 = −3"
      ],
      "metadata": {
        "id": "wuDsWYzCDBnr"
      }
    },
    {
      "cell_type": "code",
      "source": [
        "import numpy as np\n",
        "\n",
        "A = np.array([[4, 3, -5], \n",
        "              [-2, -4, 5], \n",
        "              [8, 8, 0]])\n",
        "y = np.array([2, 5, -3]) # in this format, y is a column vector (also a 3x1 matrix) equal to y = np.array([[2], [5], [-3]]), \n",
        "\n",
        "x = np.linalg.solve(A, y)\n",
        "print(x)\n",
        "print('the data format of y:', y.shape)"
      ],
      "metadata": {
        "colab": {
          "base_uri": "https://localhost:8080/"
        },
        "id": "vrdd2baHP4nk",
        "outputId": "a05022a7-760d-45c6-8dab-582bb957a042"
      },
      "execution_count": 14,
      "outputs": [
        {
          "output_type": "stream",
          "name": "stdout",
          "text": [
            "[ 2.20833333 -2.58333333 -0.18333333]\n",
            "the data format of y: (3,)\n"
          ]
        }
      ]
    },
    {
      "cell_type": "code",
      "source": [
        "#solve the above equations using the matrix inversion approach. Ax=y, then x = (A_inv)y\n",
        "\n",
        "A_inv = np.linalg.inv(A)\n",
        "\n",
        "x = np.dot(A_inv, y)\n",
        "print(x)"
      ],
      "metadata": {
        "colab": {
          "base_uri": "https://localhost:8080/"
        },
        "id": "rySF9-VRP4kg",
        "outputId": "05198026-91d1-40f8-ceb4-a4d190f4102f"
      },
      "execution_count": 15,
      "outputs": [
        {
          "output_type": "stream",
          "name": "stdout",
          "text": [
            "[ 2.20833333 -2.58333333 -0.18333333]\n"
          ]
        }
      ]
    },
    {
      "cell_type": "markdown",
      "source": [
        "##### One can get the 𝐿 and 𝑈 matrices used in the LU decomposition using the scipy package."
      ],
      "metadata": {
        "id": "4A2RkMQMGH0i"
      }
    },
    {
      "cell_type": "code",
      "source": [
        " # Get the 𝐿 and 𝑈 for the above matrix A.\n",
        " # the P returned is the permutation matrix to ease the calculation\n",
        "from scipy.linalg import lu\n",
        "\n",
        "P, L, U = lu(A)\n",
        "print('P:\\n', P)\n",
        "print('L:\\n', L)\n",
        "print('U:\\n', U)\n",
        "print('LU:\\n',np.dot(L, U))"
      ],
      "metadata": {
        "colab": {
          "base_uri": "https://localhost:8080/"
        },
        "id": "5IqrarGEP4VS",
        "outputId": "b07d73cb-f22f-4ea2-e923-d5367d89283c"
      },
      "execution_count": 16,
      "outputs": [
        {
          "output_type": "stream",
          "name": "stdout",
          "text": [
            "P:\n",
            " [[0. 0. 1.]\n",
            " [0. 1. 0.]\n",
            " [1. 0. 0.]]\n",
            "L:\n",
            " [[ 1.    0.    0.  ]\n",
            " [-0.25  1.    0.  ]\n",
            " [ 0.5   0.5   1.  ]]\n",
            "U:\n",
            " [[ 8.   8.   0. ]\n",
            " [ 0.  -2.   5. ]\n",
            " [ 0.   0.  -7.5]]\n",
            "LU:\n",
            " [[ 8.  8.  0.]\n",
            " [-2. -4.  5.]\n",
            " [ 4.  3. -5.]]\n"
          ]
        }
      ]
    },
    {
      "cell_type": "code",
      "source": [
        "# Multiply 𝑃 and 𝐴 and see what’s the effect of the permutation matrix on 𝐴\n",
        "print(np.dot(P, A))"
      ],
      "metadata": {
        "colab": {
          "base_uri": "https://localhost:8080/"
        },
        "id": "rpDy8ta9KodL",
        "outputId": "d84bb3b4-3660-4b69-ba7a-8637a7468542"
      },
      "execution_count": 17,
      "outputs": [
        {
          "output_type": "stream",
          "name": "stdout",
          "text": [
            "[[ 8.  8.  0.]\n",
            " [-2. -4.  5.]\n",
            " [ 4.  3. -5.]]\n"
          ]
        }
      ]
    },
    {
      "cell_type": "markdown",
      "source": [
        "##### Write a function my_is_orthogonal(v1,v2, tol), where 𝑣1 and 𝑣2 are column vectors of the same size and 𝑡𝑜𝑙 is a scalar value strictly larger than 0. The output should be 1 if the angle between 𝑣1 and 𝑣2 is within tol of 𝜋/2; that is, |𝜋/2−𝜃|<tol, and 0 otherwise. You may assume that 𝑣1 and 𝑣2 are column vectors of the same size, and that 𝑡𝑜𝑙 is a positive scalar."
      ],
      "metadata": {
        "id": "sYBZgj69I9Oo"
      }
    },
    {
      "cell_type": "code",
      "source": [
        "import numpy as np\n",
        "from numpy import arccos, dot\n",
        "from numpy.linalg import norm\n",
        "\n",
        "def my_is_orthogonal(v1, v2, tol):\n",
        "  theta = arccos(dot(v1.T, v2)/(norm(v1)*norm(v2)))  # transform column vector v1 to row vector format to operate dot product.\n",
        "  sensor = np.abs((np.pi)/2-theta)\n",
        "  if sensor < tol:\n",
        "    return 1\n",
        "  else:\n",
        "    return 0\n",
        "  "
      ],
      "metadata": {
        "id": "tzQ1SP4fHH_b"
      },
      "execution_count": 18,
      "outputs": []
    },
    {
      "cell_type": "code",
      "source": [
        "# Test cases(1) for the above function\n",
        "a = np.array([[1], [0.001]])\n",
        "b = np.array([[0.001], [1]])\n",
        "# output: 1\n",
        "my_is_orthogonal(a,b, 0.01)\n"
      ],
      "metadata": {
        "colab": {
          "base_uri": "https://localhost:8080/"
        },
        "id": "5F0IEP93HH7B",
        "outputId": "c036182c-0edb-4090-815c-a9b45f6ec964"
      },
      "execution_count": 19,
      "outputs": [
        {
          "output_type": "execute_result",
          "data": {
            "text/plain": [
              "1"
            ]
          },
          "metadata": {},
          "execution_count": 19
        }
      ]
    },
    {
      "cell_type": "code",
      "source": [
        "# test case (2) with output: 0\n",
        "my_is_orthogonal(a,b, 0.001)\n"
      ],
      "metadata": {
        "colab": {
          "base_uri": "https://localhost:8080/"
        },
        "id": "8erqpSERHH2d",
        "outputId": "0081727e-ab5c-4373-d8b1-16f76663b024"
      },
      "execution_count": 20,
      "outputs": [
        {
          "output_type": "execute_result",
          "data": {
            "text/plain": [
              "0"
            ]
          },
          "metadata": {},
          "execution_count": 20
        }
      ]
    },
    {
      "cell_type": "code",
      "source": [
        "# test case (3) with output: 0\n",
        "a = np.array([[1], [0.001]])\n",
        "b = np.array([[1], [1]])\n",
        "my_is_orthogonal(a,b, 0.01)"
      ],
      "metadata": {
        "colab": {
          "base_uri": "https://localhost:8080/"
        },
        "id": "0ugDd6OPHHyR",
        "outputId": "f6df5868-dd3c-4c5a-c232-ae7bb82035bf"
      },
      "execution_count": 21,
      "outputs": [
        {
          "output_type": "execute_result",
          "data": {
            "text/plain": [
              "0"
            ]
          },
          "metadata": {},
          "execution_count": 21
        }
      ]
    },
    {
      "cell_type": "code",
      "source": [
        "# test case (4) with output: 1\n",
        "a = np.array([[1], [1]])\n",
        "b = np.array([[-1], [1]])\n",
        "my_is_orthogonal(a,b, 1e-10)"
      ],
      "metadata": {
        "colab": {
          "base_uri": "https://localhost:8080/"
        },
        "id": "ad8qme7EHHtE",
        "outputId": "ccf21664-ef0d-4812-d87c-f54ab743ebbf"
      },
      "execution_count": 22,
      "outputs": [
        {
          "output_type": "execute_result",
          "data": {
            "text/plain": [
              "1"
            ]
          },
          "metadata": {},
          "execution_count": 22
        }
      ]
    },
    {
      "cell_type": "markdown",
      "source": [
        "##### QR decomposition : The QR method is a way to decompose a matrix (A) into two matrices 𝑄 and 𝑅 (A = QR), where 𝑄 is an orthogonal matrix, and 𝑅 is an upper triangular matrix. An orthogonal matrix has the features: 𝑄−1=𝑄𝑇, which means 𝑄−1𝑄=𝑄𝑇𝑄=𝐼."
      ],
      "metadata": {
        "id": "QkxiacXgjm8w"
      }
    },
    {
      "cell_type": "markdown",
      "source": [
        "##### Use the qr function in numpy.linalg to decompose matrix 𝐴=[[0, 2], [2, 3]]. And verify the results."
      ],
      "metadata": {
        "id": "Ynp9XcQtlaKP"
      }
    },
    {
      "cell_type": "code",
      "source": [
        "import numpy as np\n",
        "from numpy.linalg import qr"
      ],
      "metadata": {
        "id": "LEPkM-urHHXQ"
      },
      "execution_count": 23,
      "outputs": []
    },
    {
      "cell_type": "code",
      "source": [
        "a = np.array([[0, 2], \n",
        "              [2, 3]])\n",
        "\n",
        "q, r = qr(a)\n",
        "\n",
        "print('Q:', q)\n",
        "print('R:', r)\n",
        "\n",
        "b = np.dot(q, r)\n",
        "print('QR:', b)\n"
      ],
      "metadata": {
        "colab": {
          "base_uri": "https://localhost:8080/"
        },
        "id": "NWE-PrWkj_gC",
        "outputId": "b36a693c-90fa-4cf4-dadb-db3402d52905"
      },
      "execution_count": 24,
      "outputs": [
        {
          "output_type": "stream",
          "name": "stdout",
          "text": [
            "Q: [[ 0. -1.]\n",
            " [-1.  0.]]\n",
            "R: [[-2. -3.]\n",
            " [ 0. -2.]]\n",
            "QR: [[0. 2.]\n",
            " [2. 3.]]\n"
          ]
        }
      ]
    },
    {
      "cell_type": "markdown",
      "source": [
        "##### Eigenvalues and Eigenvectors in Python: The main built-in function in Python to solve the eigenvalue/eigenvector problem for a square array is the **eig** function in **numpy.linalg**. "
      ],
      "metadata": {
        "id": "vgApDtMkmxK3"
      }
    },
    {
      "cell_type": "code",
      "source": [
        "import numpy as np\n",
        "from numpy.linalg import eig"
      ],
      "metadata": {
        "id": "FXu3NhDwj_bn"
      },
      "execution_count": 25,
      "outputs": []
    },
    {
      "cell_type": "code",
      "source": [
        "a = np.array([[0, 2], \n",
        "              [2, 3]])\n",
        "w,v=eig(a)\n",
        "print('E-value:', w)\n",
        "print('E-vector', v)"
      ],
      "metadata": {
        "colab": {
          "base_uri": "https://localhost:8080/"
        },
        "id": "Pw7f3a_Qj_XJ",
        "outputId": "e910e9e0-f9f1-43c3-df0c-9d6de5b51b5b"
      },
      "execution_count": 26,
      "outputs": [
        {
          "output_type": "stream",
          "name": "stdout",
          "text": [
            "E-value: [-1.  4.]\n",
            "E-vector [[-0.89442719 -0.4472136 ]\n",
            " [ 0.4472136  -0.89442719]]\n"
          ]
        }
      ]
    },
    {
      "cell_type": "markdown",
      "source": [
        "##### Get the largest eigenvalue and eigenvector for matrix 𝐴=[[2,1,2,],[1,3,4], [2,2,1]] using the power method. You can start with initial vector [1, 1, 1], see what you will get after 8 iterations."
      ],
      "metadata": {
        "id": "ve6OI2f9o4fR"
      }
    },
    {
      "cell_type": "code",
      "source": [
        "import numpy as np\n",
        "def normalize(x):\n",
        "    fac = abs(x).max()\n",
        "    x_n = x / x.max()\n",
        "    return fac, x_n\n",
        "\n",
        "x = np.array([1, 1, 1])\n",
        "\n",
        "a = np.array([[2, 1, 2], \n",
        "              [1, 3, 4],\n",
        "              [2, 2, 1]])\n",
        "\n",
        "for i in range(10):\n",
        "    x = np.dot(a, x)\n",
        "    lambda_1, x = normalize(x)\n",
        "    if i == 1 or i == 5 or i == 7 or i == 9:\n",
        "      print(f'Iteration{i+1}:') \n",
        "      print('\\nEigenvalue:', lambda_1)\n",
        "      print('\\nEigenvector:', x)\n",
        "      print('\\n')\n"
      ],
      "metadata": {
        "colab": {
          "base_uri": "https://localhost:8080/"
        },
        "id": "N8kTrJLNj_Sw",
        "outputId": "36384b43-13ba-41ac-921c-4a422ac14ad7"
      },
      "execution_count": 27,
      "outputs": [
        {
          "output_type": "stream",
          "name": "stdout",
          "text": [
            "Iteration2:\n",
            "\n",
            "Eigenvalue: 6.125\n",
            "\n",
            "Eigenvector: [0.57142857 1.         0.63265306]\n",
            "\n",
            "\n",
            "Iteration6:\n",
            "\n",
            "Eigenvalue: 6.029311770651475\n",
            "\n",
            "Eigenvector: [0.55523721 1.         0.61851349]\n",
            "\n",
            "\n",
            "Iteration8:\n",
            "\n",
            "Eigenvalue: 6.029121084666249\n",
            "\n",
            "Eigenvector: [0.55520037 1.         0.61848013]\n",
            "\n",
            "\n",
            "Iteration10:\n",
            "\n",
            "Eigenvalue: 6.029112336782617\n",
            "\n",
            "Eigenvector: [0.55519855 1.         0.61847845]\n",
            "\n",
            "\n"
          ]
        }
      ]
    },
    {
      "cell_type": "markdown",
      "source": [
        "##### Do a QR decomposition for matrix 𝐴 in previous problem, and verify that 𝐴=𝑄𝑅 and 𝑄 is an orthogonal matrix."
      ],
      "metadata": {
        "id": "dRnEs42Xu719"
      }
    },
    {
      "cell_type": "code",
      "source": [
        "import numpy as np\n",
        "from numpy.linalg import qr, inv\n",
        "a = np.array([[2, 1, 2], \n",
        "              [1, 3, 4],\n",
        "              [2, 2, 1]])\n",
        "\n",
        "q, r = qr(a)\n",
        "\n",
        "print('Q:', q)\n",
        "print('R:', r)\n",
        "\n",
        "b = np.dot(q, r)\n",
        "print('QR:', b)\n",
        "\n",
        "inv_q = inv(q)\n",
        "transform_q = q.T\n",
        "print(\"inverse_q: \\n\", inv_q)\n",
        "print('transform_q: \\n', transform_q)     # orthogonal matrix has identical inverse and transformed matrices.\n",
        "# the product of orthogonal matrix and its transformed matrix is an identity matrix\n",
        "print('product of q and transformed q: \\n', np.dot(q, q.T))"
      ],
      "metadata": {
        "colab": {
          "base_uri": "https://localhost:8080/"
        },
        "id": "QKIg2o61j_OU",
        "outputId": "8aebd110-c462-4d7e-beac-2949f5ceceed"
      },
      "execution_count": 28,
      "outputs": [
        {
          "output_type": "stream",
          "name": "stdout",
          "text": [
            "Q: [[-6.66666667e-01  4.47213595e-01 -5.96284794e-01]\n",
            " [-3.33333333e-01 -8.94427191e-01 -2.98142397e-01]\n",
            " [-6.66666667e-01  1.20952439e-16  7.45355992e-01]]\n",
            "R: [[-3.         -3.         -3.33333333]\n",
            " [ 0.         -2.23606798 -2.68328157]\n",
            " [ 0.          0.         -1.63978318]]\n",
            "QR: [[2. 1. 2.]\n",
            " [1. 3. 4.]\n",
            " [2. 2. 1.]]\n",
            "inverse_q: \n",
            " [[-6.66666667e-01 -3.33333333e-01 -6.66666667e-01]\n",
            " [ 4.47213595e-01 -8.94427191e-01  1.11022302e-16]\n",
            " [-5.96284794e-01 -2.98142397e-01  7.45355992e-01]]\n",
            "transform_q: \n",
            " [[-6.66666667e-01 -3.33333333e-01 -6.66666667e-01]\n",
            " [ 4.47213595e-01 -8.94427191e-01  1.20952439e-16]\n",
            " [-5.96284794e-01 -2.98142397e-01  7.45355992e-01]]\n",
            "product of q and transformed q: \n",
            " [[1.00000000e+00 5.62433155e-17 4.35065694e-17]\n",
            " [5.62433155e-17 1.00000000e+00 7.10211426e-18]\n",
            " [4.35065694e-17 7.10211426e-18 1.00000000e+00]]\n"
          ]
        }
      ]
    },
    {
      "cell_type": "markdown",
      "source": [
        "##### Use the QR method to get all the eigenvalues for matrix 𝐴 in the previouse problem"
      ],
      "metadata": {
        "id": "KMFsHKD20jh2"
      }
    },
    {
      "cell_type": "code",
      "source": [
        "import numpy as np\n",
        "\n",
        "a = np.array([[2, 1, 2], \n",
        "              [1, 3, 4],\n",
        "              [2, 2, 1]])\n",
        "p = [1, 5, 10, 20]\n",
        "for i in range(20):\n",
        "    q, r = qr(a)\n",
        "    a = np.dot(r, q)\n",
        "    if i+1 in p:\n",
        "        print(f'Iteration {i+1}:')\n",
        "        print(a)"
      ],
      "metadata": {
        "colab": {
          "base_uri": "https://localhost:8080/"
        },
        "id": "fAsPcCFcj_J2",
        "outputId": "4ca212dc-947c-402f-b2c4-4efe384c1b4c"
      },
      "execution_count": 29,
      "outputs": [
        {
          "output_type": "stream",
          "name": "stdout",
          "text": [
            "Iteration 1:\n",
            "[[ 5.22222222e+00  1.34164079e+00  1.98761598e-01]\n",
            " [ 2.53421037e+00  2.00000000e+00 -1.33333333e+00]\n",
            " [ 1.09318879e+00 -1.98335776e-16 -1.22222222e+00]]\n",
            "Iteration 5:\n",
            "[[ 6.03092460e+00 -1.06317816e+00 -1.45453339e+00]\n",
            " [ 6.49818243e-03  1.15178139e+00 -1.23102142e+00]\n",
            " [ 2.87746118e-03 -3.75599815e-01 -1.18270599e+00]]\n",
            "Iteration 10:\n",
            "[[ 6.02911181e+00 -5.38959931e-01  1.72634823e+00]\n",
            " [ 2.22949741e-06  1.39973586e+00  3.44625515e-01]\n",
            " [ 1.89176800e-06 -5.09334740e-01 -1.42884767e+00]]\n",
            "Iteration 20:\n",
            "[[ 6.02911192e+00 -4.59761802e-01  1.74910624e+00]\n",
            " [ 6.48818792e-13  1.38637117e+00  2.16248440e-01]\n",
            " [ 6.74281837e-13 -6.37710836e-01 -1.41548309e+00]]\n"
          ]
        }
      ]
    },
    {
      "cell_type": "markdown",
      "source": [
        "##### Get the eigenvalues and eigenvectors for the matrix 𝐴 in the previous problem using the Python built-in function."
      ],
      "metadata": {
        "id": "3Dgu8tqr1MH_"
      }
    },
    {
      "cell_type": "code",
      "source": [
        "import numpy as np\n",
        "from numpy.linalg import eig\n",
        "A = np.array([[2, 1, 2], \n",
        "              [1, 3, 4],\n",
        "              [2, 2, 1]])\n",
        "w,v=eig(A)\n",
        "print('E-value:', w)\n",
        "print('E-vector', v)"
      ],
      "metadata": {
        "colab": {
          "base_uri": "https://localhost:8080/"
        },
        "id": "A7UcaRPMj_GU",
        "outputId": "b0945c55-87f5-48d5-d332-a66f38536846"
      },
      "execution_count": 30,
      "outputs": [
        {
          "output_type": "stream",
          "name": "stdout",
          "text": [
            "E-value: [ 6.02911192  1.33625596 -1.36536788]\n",
            "E-vector [[-0.42697964 -0.7120039  -0.25611215]\n",
            " [-0.76905768  0.69343836 -0.62050013]\n",
            " [-0.47564554 -0.11042501  0.74120588]]\n"
          ]
        }
      ]
    },
    {
      "cell_type": "markdown",
      "source": [
        "##### Write a function my_lin_regression(f, x, y), where f is a list containing function objects to basis functions, and x and y are arrays containing noisy data. Assume that x and y are the same size. Let an estimation function for the data contained in x and y be defined as 𝑦̂ (𝑥)=𝛽(1)⋅𝑓1(𝑥)+𝛽(2)⋅𝑓2(𝑥)+⋯+𝛽(𝑛)⋅𝑓𝑛(𝑥), where n is the length of f. Your function should compute beta according to the least squares regression formula."
      ],
      "metadata": {
        "id": "67RKHfDhbGbK"
      }
    },
    {
      "cell_type": "code",
      "source": [
        "import numpy as np\n",
        "from scipy import optimize\n",
        "import matplotlib.pyplot as plt\n",
        "\n",
        "plt.style.use('seaborn-poster')\n",
        "\n",
        "def my_lin_regression(f, x, y):\n",
        "   \n",
        "  n = len(f)\n",
        "  F = [] #define an empty list\n",
        "  for i in range(n):\n",
        "    F.append(f[i](x)) # add f[i](x) one by one to the list from f[0](x) to f[n](x)\n",
        "\n",
        "  A = np.vstack([F, np.ones(len(x))]).T # get matrix A\n",
        "  y = y[:, np.newaxis]\n",
        "    \n",
        "  beta = np.dot((np.dot(np.linalg.inv(np.dot(A.T,A)),A.T)),y) #calculate based on the least square regression formula\n",
        "\n",
        "  return beta\n"
      ],
      "metadata": {
        "id": "ZkPXEuR93e5u"
      },
      "execution_count": 31,
      "outputs": []
    },
    {
      "cell_type": "code",
      "source": [
        "# test case:\n",
        "x = np.linspace(0, 2*np.pi, 1000)\n",
        "y = 3*np.sin(x) - 2*np.cos(x) + np.random.random(len(x))\n",
        "f = [np.sin, np.cos]\n",
        "beta = my_lin_regression(f, x, y)\n",
        "\n",
        "plt.figure(figsize = (10,8))\n",
        "plt.plot(x,y,'b.', label = 'data')\n",
        "plt.plot(x, beta[0]*f[0](x)+beta[1]*f[1](x)+beta[2], 'r', label='regression')\n",
        "plt.xlabel('x')\n",
        "plt.ylabel('y')\n",
        "plt.title('Least Square Regression Example')\n",
        "plt.legend()\n",
        "plt.show()"
      ],
      "metadata": {
        "colab": {
          "base_uri": "https://localhost:8080/",
          "height": 538
        },
        "id": "1qjxmpCY3ezf",
        "outputId": "8f5db42c-b193-4910-d201-d48724a337ff"
      },
      "execution_count": 32,
      "outputs": [
        {
          "output_type": "display_data",
          "data": {
            "image/png": "[encoded data removed]",
            "text/plain": [
              "<Figure size 720x576 with 1 Axes>"
            ]
          },
          "metadata": {
            "needs_background": "light"
          }
        }
      ]
    },
    {
      "cell_type": "markdown",
      "source": [
        "##### Write a function my_exp_regression (x,y), where x and y are arrays the same size. Let an estimation function for the data contained in x and y be defined as 𝑦̂ (𝑥)=𝛼𝑒^(𝛽𝑥). Your function should compute 𝛼 and 𝛽 as the solution to the least squares regression formula."
      ],
      "metadata": {
        "id": "stw2pKlop6gT"
      }
    },
    {
      "cell_type": "code",
      "source": [
        "# note that log(y(x)) = log(alpha) + beta*x\n",
        "import numpy as np\n",
        "\n",
        "def my_exp_regression(x, y):\n",
        "  A = np.vstack([x, np.ones(len(x))]).T\n",
        "  beta, log_alpha = np.linalg.lstsq(A, np.log(y), rcond=None)[0]\n",
        "#alpha = np.linalg.lstsq(A, y, rcond=None)[0]\n",
        "  alpha = np.exp(log_alpha)\n",
        "\n",
        "  return alpha, beta\n"
      ],
      "metadata": {
        "id": "ju0pmGob3esm"
      },
      "execution_count": 33,
      "outputs": []
    },
    {
      "cell_type": "code",
      "source": [
        "# tset case:\n",
        "\n",
        "x = np.linspace(0, 1, 1000)\n",
        "y = 2*np.exp(-0.5*x) + 0.25*np.random.random(len(x))\n",
        "\n",
        "alpha, beta = my_exp_regression(x, y)\n",
        "\n",
        "plt.figure(figsize = (10,8))\n",
        "plt.plot(x,y,'b.', label = 'data')\n",
        "plt.plot(x, alpha*np.exp(beta*x), 'r', label='regression')\n",
        "plt.xlabel('x')\n",
        "plt.ylabel('y')\n",
        "plt.title('Least Square Regression on Exponential Model')\n",
        "plt.legend()\n",
        "plt.show()"
      ],
      "metadata": {
        "colab": {
          "base_uri": "https://localhost:8080/",
          "height": 538
        },
        "id": "sQuyLVJL3egE",
        "outputId": "c1eb1997-7633-4ef2-86cf-7496f950790d"
      },
      "execution_count": 34,
      "outputs": [
        {
          "output_type": "display_data",
          "data": {
            "image/png": "[encoded data removed]",
            "text/plain": [
              "<Figure size 720x576 with 1 Axes>"
            ]
          },
          "metadata": {
            "needs_background": "light"
          }
        }
      ]
    },
    {
      "cell_type": "markdown",
      "source": [
        "##### Singular Value Decomposition (SVD) in Python (ref: https://www.askpython.com/python/examples/singular-value-decomposition)"
      ],
      "metadata": {
        "id": "hiKGHMRi6vxb"
      }
    },
    {
      "cell_type": "code",
      "source": [
        "import numpy as np\n",
        " \n",
        "#Creating a matrix A\n",
        "A = np.array([[3,4,3],[1,2,3],[4,2,1]])\n",
        " \n",
        "#Performing SVD\n",
        "U, D, VT = np.linalg.svd(A)\n",
        " \n",
        "#Checking if we can remake the original matrix using U,D,VT\n",
        "A_remake = (U @ np.diag(D) @ VT)\n",
        "print(A_remake)\n",
        "print('matrix U: \\n', U)\n",
        "print('matrix D: \\n', D)\n",
        "print('matrix VT: \\n', VT)"
      ],
      "metadata": {
        "colab": {
          "base_uri": "https://localhost:8080/"
        },
        "id": "d0W_lmJB3eaC",
        "outputId": "25f982a6-1745-4cf1-ffb2-81801c489c7d"
      },
      "execution_count": 35,
      "outputs": [
        {
          "output_type": "stream",
          "name": "stdout",
          "text": [
            "[[3. 4. 3.]\n",
            " [1. 2. 3.]\n",
            " [4. 2. 1.]]\n",
            "matrix U: \n",
            " [[-0.73553325 -0.18392937 -0.65204358]\n",
            " [-0.42657919 -0.62196982  0.65664582]\n",
            " [-0.52632788  0.76113306  0.37901904]]\n",
            "matrix D: \n",
            " [7.87764972 2.54031671 0.69958986]\n",
            "matrix VT: \n",
            " [[-0.60151068 -0.61540527 -0.5093734 ]\n",
            " [ 0.73643349 -0.18005275 -0.65210944]\n",
            " [ 0.30959751 -0.76737042  0.5615087 ]]\n"
          ]
        }
      ]
    },
    {
      "cell_type": "code",
      "source": [
        ""
      ],
      "metadata": {
        "id": "wsYS6t5g3dvc"
      },
      "execution_count": null,
      "outputs": []
    }
  ]
}