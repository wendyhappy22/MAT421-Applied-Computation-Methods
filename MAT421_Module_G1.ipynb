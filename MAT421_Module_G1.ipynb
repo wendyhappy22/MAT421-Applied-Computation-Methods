{
  "nbformat": 4,
  "nbformat_minor": 0,
  "metadata": {
    "colab": {
      "name": "MAT421_Module_G1.ipynb",
      "provenance": [],
      "collapsed_sections": []
    },
    "kernelspec": {
      "name": "python3",
      "display_name": "Python 3"
    },
    "language_info": {
      "name": "python"
    }
  },
  "cells": [
    {
      "cell_type": "markdown",
      "source": [
        "## **Module G1: Numerical Integration**"
      ],
      "metadata": {
        "id": "nlaG9L9epdLs"
      }
    },
    {
      "cell_type": "markdown",
      "source": [
        "#### **21.1 to 21.3 notes:** "
      ],
      "metadata": {
        "id": "280434E1puqV"
      }
    },
    {
      "cell_type": "markdown",
      "source": [
        "##### Given a function 𝑓(𝑥), to approximate the integral of 𝑓(𝑥) over the total interval, [𝑎,𝑏] is to approximate the area it covers in this invertal. Assume that the interval has been discretized into a numeral grid, 𝑥, consisting of 𝑛+1 points with spacing, $h=\\dfrac{b-a}{n}$. Here, we denote each point in 𝑥 by $x_\\mathrm{i}$, where $x_\\mathrm{0}$ and $x_\\mathrm{n} =b$. Note: There are 𝑛+1 grid points because the count starts at 𝑥0. We also assume we have a function, 𝑓(𝑥), that can be computed for any of the grid points, or that we have been given the function implicitly as 𝑓($x_\\mathrm{i}$). The interval [$x_\\mathrm{i}$,$x_\\mathrm{i+1}$] is referred to as a subinterval."
      ],
      "metadata": {
        "id": "7QUTCXM8rXdy"
      }
    },
    {
      "cell_type": "markdown",
      "source": [
        "#### **Riemanns Integral:** The simplest method for approximating integrals is by summing the area of rectangles that are defined for each subinterval. The width of the rectangle is $x_\\mathrm{i+1}- x_\\mathrm{i}=h$, and the height is defined by a function value 𝑓(𝑥) for some 𝑥 in the subinterval. An obvious choice for the height is the function value at the left endpoint, $x_\\mathrm{i}$, or the right endpoint, $x_\\mathrm{i+1}$, This method gives the Riemann Integral approximation, which is:\n",
        "\n",
        "$$\n",
        "\\int _a^{b} f(x)dx \\approx\\sum _ {i=0}^{n-1}hf(x_\\mathrm{i}),\n",
        "$$\n",
        "or\n",
        "$$\n",
        "\\int _a^{b} f(x)dx \\approx\\sum _ {i=1}^{n}hf(x_\\mathrm{i}),\n",
        "$$\n",
        "the **mid-point rule**\n",
        "$$\n",
        "\\int _a^{b} f(x)dx \\approx\\sum _ {i=1}^{n-1}hf(y_\\mathrm{i}), y_\\mathrm{i}=\\frac{x_\\mathrm{i+1}+x_\\mathrm{i}}{2}\n",
        "$$"
      ],
      "metadata": {
        "id": "1OYtn0KarXY2"
      }
    },
    {
      "cell_type": "markdown",
      "source": [
        "example: Use the left Riemann Integral, right Riemann Integral, and Midpoint Rule to approximate $\\int _0^{𝜋}sin(𝑥)𝑑𝑥$ wtih 11 evenly spaced grid ponts over the whole interval. Compare this value to the exact value of 2"
      ],
      "metadata": {
        "id": "hXgMFCMLBbZV"
      }
    },
    {
      "cell_type": "code",
      "source": [
        "import numpy as np\n",
        "\n",
        "a = 0\n",
        "b = np.pi\n",
        "n = 11\n",
        "h = (b - a) / (n - 1)\n",
        "x = np.linspace(a, b, n)\n",
        "f = np.sin(x)\n",
        "\n",
        "I_riemannL = h * sum(f[:n-1])\n",
        "err_riemannL = 2 - I_riemannL\n",
        "\n",
        "I_riemannR = h * sum(f[1::])\n",
        "err_riemannR = 2 - I_riemannR\n",
        "\n",
        "I_mid = h * sum(np.sin((x[:n-1] \\\n",
        "        + x[1:])/2))\n",
        "err_mid = 2 - I_mid\n",
        "\n",
        "print(I_riemannL)\n",
        "print(err_riemannL)\n",
        "\n",
        "print(I_riemannR)\n",
        "print(err_riemannR)\n",
        "\n",
        "print(I_mid)\n",
        "print(err_mid)"
      ],
      "metadata": {
        "colab": {
          "base_uri": "https://localhost:8080/"
        },
        "id": "ZhUnBNDNBfSK",
        "outputId": "c683b27c-59dd-489f-ec2d-8671baaec664"
      },
      "execution_count": 1,
      "outputs": [
        {
          "output_type": "stream",
          "name": "stdout",
          "text": [
            "1.9835235375094546\n",
            "0.01647646249054535\n",
            "1.9835235375094546\n",
            "0.01647646249054535\n",
            "2.0082484079079745\n",
            "-0.008248407907974542\n"
          ]
        }
      ]
    },
    {
      "cell_type": "markdown",
      "source": [
        "**conclusion**: left and right Riemann Integral does not make too much difference, but the mid-point Riemann Integral improved the accuracy a lot."
      ],
      "metadata": {
        "id": "Sk1BAo3UrXUw"
      }
    },
    {
      "cell_type": "markdown",
      "source": [
        "**Trapezoid Rule:** The Trapezoid Rule fits a trapezoid into each subinterval and sums the areas of the trapezoid to approximate the total integral. This approximation for the integral to an arbitrary function is shown in the following figure. For each subinterval, the Trapezoid Rule computes the area of a trapezoid with corners at ($x_\\mathrm{i}$,0),($x_\\mathrm{i+1}$,0),($x_\\mathrm{i}$,𝑓($x_\\mathrm{i}$)), and ($x_\\mathrm{i+1}$,𝑓($x_\\mathrm{i+1}$)), which is $h\\frac{f(x_\\mathrm{i})+f(x_\\mathrm{i+1})}{2}$.Thus, the Trapezoid Rule approximates integrals according to the expression\n",
        "\n",
        "$$\n",
        "\\int _a^{b} f(x)dx \\approx\\sum _ {i=1}^{n-1}h\\frac{f(x_\\mathrm{i})+f(x_\\mathrm{i+1})}{2},\n",
        "$$"
      ],
      "metadata": {
        "id": "6BRmxTA_rXQ4"
      }
    },
    {
      "cell_type": "markdown",
      "source": [
        "**example:**Use the Trapezoid Rule to approximate $\\int _0^{𝜋}sin(𝑥)𝑑𝑥$ with 11 evenly spaced grid points over the whole interval. Compare this value to the exact value of 2."
      ],
      "metadata": {
        "id": "n9_8mwPzrWk9"
      }
    },
    {
      "cell_type": "code",
      "execution_count": 2,
      "metadata": {
        "colab": {
          "base_uri": "https://localhost:8080/"
        },
        "id": "0Hsey2tNpWyq",
        "outputId": "0ca6beaa-e7e5-47cc-f7b6-6c75168e6a1d"
      },
      "outputs": [
        {
          "output_type": "stream",
          "name": "stdout",
          "text": [
            "1.9835235375094546\n",
            "0.01647646249054535\n"
          ]
        }
      ],
      "source": [
        "import numpy as np\n",
        "\n",
        "a = 0\n",
        "b = np.pi\n",
        "n = 11\n",
        "h = (b - a) / (n - 1)\n",
        "x = np.linspace(a, b, n)\n",
        "f = np.sin(x)\n",
        "\n",
        "I_trap = (h/2)*(f[0] + \\\n",
        "          2 * sum(f[1:n-1]) + f[n-1])\n",
        "err_trap = 2 - I_trap\n",
        "\n",
        "print(I_trap)\n",
        "print(err_trap)"
      ]
    },
    {
      "cell_type": "markdown",
      "source": [
        "**question**: based on the taylor expansion, Tapezoid Rule should have the same accuracy as the mid-point Riemanns Integral, how come the result came out only the same accuracy as the left or right point Riemanns integral??"
      ],
      "metadata": {
        "id": "MCl0kD6jGog4"
      }
    },
    {
      "cell_type": "markdown",
      "source": [
        "### **Exercise**"
      ],
      "metadata": {
        "id": "J1275DwXAUK1"
      }
    },
    {
      "cell_type": "markdown",
      "source": [
        "**Exercise(1)** Write a function 𝑚𝑦_𝑛𝑢𝑚_𝑐𝑎𝑙𝑐(𝑓,𝑎,𝑏,𝑛, option) using Riemanns Integral method. The output 𝐼 is the numerical integral of 𝑓, a function object, computed on a grid of 𝑛 evenly spaced points starting at 𝑎 and ending at 𝑏,  The integration method used should be one of the following strings defined by option: ‘left’, ‘right’, ‘midpoint’, indicating that the the function value should be taken from the let, right endpoint or the mid point of the interval, respectively\n"
      ],
      "metadata": {
        "id": "IdMzMiNqhaLf"
      }
    },
    {
      "cell_type": "code",
      "source": [
        "def my_num_calc(f, a, b, n, option):\n",
        "    h = (b-a)/(n-1)\n",
        "    x0 = a\n",
        "    I=0\n",
        "    if option == 'right':\n",
        "      for i in range(1,n):\n",
        "        x = a+h*i\n",
        "        I += h*f(x)\n",
        "\n",
        "    elif option == 'left':\n",
        "      for i in range(0,n-1):\n",
        "        x = a+h*i\n",
        "        I += h*f(x)\n",
        "    \n",
        "    elif option == 'midpoint':\n",
        "      for i in range(0, n-1):\n",
        "        y = a+h/2+h*i\n",
        "        I += h*f(y)\n",
        " \n",
        "    return I\n"
      ],
      "metadata": {
        "id": "Pniw51_OrX_A"
      },
      "execution_count": 3,
      "outputs": []
    },
    {
      "cell_type": "code",
      "source": [
        "f = lambda x: x**2\n",
        "my_num_calc(f, 0, 1, 101, 'right')\n"
      ],
      "metadata": {
        "colab": {
          "base_uri": "https://localhost:8080/"
        },
        "id": "g4mANfgYrY2L",
        "outputId": "9ca4c216-8287-467a-b070-b2abc1a25076"
      },
      "execution_count": 4,
      "outputs": [
        {
          "output_type": "execute_result",
          "data": {
            "text/plain": [
              "0.33835000000000015"
            ]
          },
          "metadata": {},
          "execution_count": 4
        }
      ]
    },
    {
      "cell_type": "code",
      "source": [
        "f = lambda x: x**2\n",
        "my_num_calc(f, 0, 1, 101, 'left')"
      ],
      "metadata": {
        "colab": {
          "base_uri": "https://localhost:8080/"
        },
        "id": "NF88NczerYx_",
        "outputId": "a1a70799-c223-4593-87fa-97393022a228"
      },
      "execution_count": 5,
      "outputs": [
        {
          "output_type": "execute_result",
          "data": {
            "text/plain": [
              "0.32835000000000014"
            ]
          },
          "metadata": {},
          "execution_count": 5
        }
      ]
    },
    {
      "cell_type": "code",
      "source": [
        "f = lambda x: x**2\n",
        "my_num_calc(f, 0, 1, 101, 'midpoint')"
      ],
      "metadata": {
        "colab": {
          "base_uri": "https://localhost:8080/"
        },
        "id": "Pr9bSvsYrYr5",
        "outputId": "d610eaab-d816-41e1-c000-e6d19a09b7a7"
      },
      "execution_count": 6,
      "outputs": [
        {
          "output_type": "execute_result",
          "data": {
            "text/plain": [
              "0.33332500000000004"
            ]
          },
          "metadata": {},
          "execution_count": 6
        }
      ]
    },
    {
      "cell_type": "code",
      "source": [
        "import numpy as np\n",
        "f = lambda x: np.sin(x)\n",
        "my_num_calc(f, 0, np.pi, 11, 'right')"
      ],
      "metadata": {
        "colab": {
          "base_uri": "https://localhost:8080/"
        },
        "id": "ozReF5EfrYoh",
        "outputId": "730b6d04-84a0-43e4-b00c-db20fdec6da2"
      },
      "execution_count": 7,
      "outputs": [
        {
          "output_type": "execute_result",
          "data": {
            "text/plain": [
              "1.9835235375094544"
            ]
          },
          "metadata": {},
          "execution_count": 7
        }
      ]
    },
    {
      "cell_type": "code",
      "source": [
        "import numpy as np\n",
        "f = lambda x: np.sin(x)\n",
        "my_num_calc(f, 0, np.pi, 11, 'left')"
      ],
      "metadata": {
        "colab": {
          "base_uri": "https://localhost:8080/"
        },
        "id": "akudKKAPrYkf",
        "outputId": "c08397ba-47f4-4059-b45e-949dde99019e"
      },
      "execution_count": 8,
      "outputs": [
        {
          "output_type": "execute_result",
          "data": {
            "text/plain": [
              "1.9835235375094544"
            ]
          },
          "metadata": {},
          "execution_count": 8
        }
      ]
    },
    {
      "cell_type": "code",
      "source": [
        "import numpy as np\n",
        "f = lambda x: np.sin(x)\n",
        "my_num_calc(f, 0, np.pi, 11, 'midpoint')"
      ],
      "metadata": {
        "colab": {
          "base_uri": "https://localhost:8080/"
        },
        "id": "Gl3oa-DKrYcL",
        "outputId": "1e23498c-4ee3-415b-f00e-1340bbc6fcc6"
      },
      "execution_count": 9,
      "outputs": [
        {
          "output_type": "execute_result",
          "data": {
            "text/plain": [
              "2.0082484079079745"
            ]
          },
          "metadata": {},
          "execution_count": 9
        }
      ]
    },
    {
      "cell_type": "markdown",
      "source": [
        "**Exercxise(2):** Write a function my_trapz_int(𝑓,𝑎,𝑏,𝑛) using Trapezoid Rule. The output 𝐼 is the numerical integral of 𝑓, a function object, computed on a grid of 𝑛 evenly spaced points starting at 𝑎 and ending at 𝑏."
      ],
      "metadata": {
        "id": "oY3vxPoEqa6u"
      }
    },
    {
      "cell_type": "code",
      "source": [
        "def my_trapz_int(f, a, b, n):\n",
        "    h = (b-a)/(n-1)\n",
        "    x0 = a\n",
        "    I=0\n",
        "    for i in range(0,n-1):\n",
        "      x = a+h*i\n",
        "      I += h*(f(x)+f(x+h))/2\n",
        " \n",
        "    return I\n"
      ],
      "metadata": {
        "id": "4SvZCRG9sjYQ"
      },
      "execution_count": 10,
      "outputs": []
    },
    {
      "cell_type": "code",
      "source": [
        "f = lambda x: x**2\n",
        "my_trapz_int(f, 0, 1, 3)"
      ],
      "metadata": {
        "colab": {
          "base_uri": "https://localhost:8080/"
        },
        "id": "l9ZyCuCFtm7N",
        "outputId": "01e1c1a4-feec-47a6-b862-9ed4b536567f"
      },
      "execution_count": 11,
      "outputs": [
        {
          "output_type": "execute_result",
          "data": {
            "text/plain": [
              "0.375"
            ]
          },
          "metadata": {},
          "execution_count": 11
        }
      ]
    },
    {
      "cell_type": "code",
      "source": [
        "f = lambda x: x**2\n",
        "my_trapz_int(f, 0, 1, 101)"
      ],
      "metadata": {
        "colab": {
          "base_uri": "https://localhost:8080/"
        },
        "id": "dzfsR9TAtzZy",
        "outputId": "bca5658b-5f05-4b58-df20-c8f5afda4180"
      },
      "execution_count": 12,
      "outputs": [
        {
          "output_type": "execute_result",
          "data": {
            "text/plain": [
              "0.33335"
            ]
          },
          "metadata": {},
          "execution_count": 12
        }
      ]
    },
    {
      "cell_type": "code",
      "source": [
        "import numpy as np\n",
        "f = lambda x: np.sin(x)\n",
        "my_trapz_int(f, 0, np.pi, 11)"
      ],
      "metadata": {
        "colab": {
          "base_uri": "https://localhost:8080/"
        },
        "id": "wWRBgPA2t4m-",
        "outputId": "801efe2b-6819-440d-d6a6-33437c6d087d"
      },
      "execution_count": 13,
      "outputs": [
        {
          "output_type": "execute_result",
          "data": {
            "text/plain": [
              "1.9835235375094546"
            ]
          },
          "metadata": {},
          "execution_count": 13
        }
      ]
    },
    {
      "cell_type": "markdown",
      "source": [
        "**Exercise(3):** Using Trapezoid Rule to plot $\n",
        "f(x) = \\frac{1}{1+x^2}$ on [0,5] with N=5, 10, 100 evenly distributed spaces, respectively\n"
      ],
      "metadata": {
        "id": "YhcynMFZvIw8"
      }
    },
    {
      "cell_type": "code",
      "source": [
        "import numpy as np\n",
        "import matplotlib.pyplot as plt\n",
        "\n",
        "\n",
        "f = lambda x : 1/(1 + x**2)\n",
        "a = 0; b = 5; N = 5\n",
        "\n",
        "# x and y values for the trapezoid rule\n",
        "x = np.linspace(a,b,N+1)\n",
        "y = f(x)\n",
        "\n",
        "# X and Y values for plotting y=f(x)\n",
        "X = np.linspace(a,b,100)\n",
        "Y = f(X)\n",
        "plt.plot(X,Y)\n",
        "\n",
        "for i in range(N):\n",
        "    xs = [x[i],x[i],x[i+1],x[i+1]]\n",
        "    ys = [0,f(x[i]),f(x[i+1]),0]\n",
        "    plt.fill(xs,ys,'b',edgecolor='b',alpha=0.2)\n",
        "\n",
        "plt.title('Trapezoid Rule, N = {}'.format(N))\n",
        "plt.show()"
      ],
      "metadata": {
        "colab": {
          "base_uri": "https://localhost:8080/",
          "height": 281
        },
        "id": "uKKea_agwK70",
        "outputId": "a7e99e4c-f612-4beb-84f2-5865042e4582"
      },
      "execution_count": 14,
      "outputs": [
        {
          "output_type": "display_data",
          "data": {
            "text/plain": [
              "<Figure size 432x288 with 1 Axes>"
            ],
            "image/png": "[encoded data removed]"
          },
          "metadata": {
            "needs_background": "light"
          }
        }
      ]
    },
    {
      "cell_type": "code",
      "source": [
        "f = lambda x : 1/(1 + x**2)\n",
        "a = 0; b = 5; N = 10\n",
        "\n",
        "# x and y values for the trapezoid rule\n",
        "x = np.linspace(a,b,N+1)\n",
        "y = f(x)\n",
        "\n",
        "# X and Y values for plotting y=f(x)\n",
        "X = np.linspace(a,b,100)\n",
        "Y = f(X)\n",
        "plt.plot(X,Y)\n",
        "\n",
        "for i in range(N):\n",
        "    xs = [x[i],x[i],x[i+1],x[i+1]]\n",
        "    ys = [0,f(x[i]),f(x[i+1]),0]\n",
        "    plt.fill(xs,ys,'b',edgecolor='b',alpha=0.2)\n",
        "\n",
        "plt.title('Trapezoid Rule, N = {}'.format(N))\n",
        "plt.show()"
      ],
      "metadata": {
        "colab": {
          "base_uri": "https://localhost:8080/",
          "height": 281
        },
        "id": "Th9PBttP9ETw",
        "outputId": "52fd7923-f002-4fb1-d98f-e25f7c423285"
      },
      "execution_count": 15,
      "outputs": [
        {
          "output_type": "display_data",
          "data": {
            "text/plain": [
              "<Figure size 432x288 with 1 Axes>"
            ],
            "image/png": "[encoded data removed]"
          },
          "metadata": {
            "needs_background": "light"
          }
        }
      ]
    },
    {
      "cell_type": "code",
      "source": [
        "f = lambda x : 1/(1 + x**2)\n",
        "a = 0; b = 5; N = 100\n",
        "\n",
        "# x and y values for the trapezoid rule\n",
        "x = np.linspace(a,b,N+1)\n",
        "y = f(x)\n",
        "\n",
        "# X and Y values for plotting y=f(x)\n",
        "X = np.linspace(a,b,100)\n",
        "Y = f(X)\n",
        "plt.plot(X,Y)\n",
        "\n",
        "for i in range(N):\n",
        "    xs = [x[i],x[i],x[i+1],x[i+1]]\n",
        "    ys = [0,f(x[i]),f(x[i+1]),0]\n",
        "    plt.fill(xs,ys,'b',edgecolor='b',alpha=0.2)\n",
        "\n",
        "plt.title('Trapezoid Rule, N = {}'.format(N))\n",
        "plt.show()"
      ],
      "metadata": {
        "colab": {
          "base_uri": "https://localhost:8080/",
          "height": 281
        },
        "id": "i0lO1Mh59L_F",
        "outputId": "6bee76ba-0a03-4869-89fb-a24e31b3a984"
      },
      "execution_count": 16,
      "outputs": [
        {
          "output_type": "display_data",
          "data": {
            "text/plain": [
              "<Figure size 432x288 with 1 Axes>"
            ],
            "image/png": "[encoded data removed]"
          },
          "metadata": {
            "needs_background": "light"
          }
        }
      ]
    }
  ]
}